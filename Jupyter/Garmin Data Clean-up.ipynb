{
 "cells": [
  {
   "cell_type": "code",
   "execution_count": 2,
   "id": "f9868c46",
   "metadata": {},
   "outputs": [],
   "source": [
    "from pymongo import MongoClient\n",
    "import pandas as pd\n",
    "import numpy as np\n",
    "\n",
    "client = MongoClient(\"localhost\")\n",
    "db = client.fit\n",
    "# Issue the serverStatus command and print the results\n",
    "server_status_result = db.command(\"serverStatus\")\n",
    "    "
   ]
  },
  {
   "cell_type": "code",
   "execution_count": 3,
   "id": "bc971eef",
   "metadata": {},
   "outputs": [],
   "source": [
    "cursor = db.activity.find({'message_global_mesg_num': 20, 'message_type':'FitDataMessage'})"
   ]
  },
  {
   "cell_type": "code",
   "execution_count": 4,
   "id": "f100b878",
   "metadata": {},
   "outputs": [],
   "source": [
    "df = pd.DataFrame(list(cursor))"
   ]
  },
  {
   "cell_type": "code",
   "execution_count": 5,
   "id": "01664004",
   "metadata": {},
   "outputs": [
    {
     "name": "stdout",
     "output_type": "stream",
     "text": [
      "<class 'pandas.core.frame.DataFrame'>\n",
      "RangeIndex: 1789261 entries, 0 to 1789260\n",
      "Data columns (total 47 columns):\n",
      " #   Column                      Dtype  \n",
      "---  ------                      -----  \n",
      " 0   _id                         object \n",
      " 1   message_type                object \n",
      " 2   message_chunk               object \n",
      " 3   message_frame_type          int64  \n",
      " 4   message_global_mesg_num     int64  \n",
      " 5   message_isDeveloperData     bool   \n",
      " 6   message_local_mesg_num      int64  \n",
      " 7   message_name                object \n",
      " 8   message_timeOffset          object \n",
      " 9   timestamp                   object \n",
      " 10  position_lat                object \n",
      " 11  position_long               object \n",
      " 12  distance                    float64\n",
      " 13  accumulated_power           float64\n",
      " 14  enhanced_altitude           float64\n",
      " 15  altitude                    float64\n",
      " 16  enhanced_speed              float64\n",
      " 17  speed                       float64\n",
      " 18  power                       float64\n",
      " 19  unknown_87                  float64\n",
      " 20  unknown_88                  float64\n",
      " 21  heart_rate                  float64\n",
      " 22  cadence                     float64\n",
      " 23  temperature                 float64\n",
      " 24  fractional_cadence          float64\n",
      " 25  record_id                   int64  \n",
      " 26  activity_id                 object \n",
      " 27  unknown_90                  float64\n",
      " 28  left_pco                    float64\n",
      " 29  right_pco                   float64\n",
      " 30  left_power_phase_1          float64\n",
      " 31  left_power_phase_2          float64\n",
      " 32  left_power_phase_peak_1     float64\n",
      " 33  left_power_phase_peak_2     float64\n",
      " 34  right_power_phase_1         float64\n",
      " 35  right_power_phase_2         float64\n",
      " 36  right_power_phase_peak_1    float64\n",
      " 37  right_power_phase_peak_2    float64\n",
      " 38  left_right_balance          object \n",
      " 39  left_torque_effectiveness   float64\n",
      " 40  right_torque_effectiveness  float64\n",
      " 41  left_pedal_smoothness       float64\n",
      " 42  right_pedal_smoothness      float64\n",
      " 43  activity_type               object \n",
      " 44  eE                          float64\n",
      " 45  distance_1                  float64\n",
      " 46  distance_2                  float64\n",
      "dtypes: bool(1), float64(31), int64(4), object(11)\n",
      "memory usage: 629.7+ MB\n"
     ]
    }
   ],
   "source": [
    "df.info()"
   ]
  },
  {
   "cell_type": "code",
   "execution_count": 6,
   "id": "4de999de",
   "metadata": {},
   "outputs": [],
   "source": [
    "df.replace(to_replace='None',value=np.nan, inplace = True)"
   ]
  },
  {
   "cell_type": "code",
   "execution_count": 7,
   "id": "b7a57f8e",
   "metadata": {},
   "outputs": [],
   "source": [
    "df['position_lat'] = df['position_lat'].apply(pd.to_numeric)"
   ]
  },
  {
   "cell_type": "code",
   "execution_count": 8,
   "id": "60f5f496",
   "metadata": {},
   "outputs": [],
   "source": [
    "df['position_long'] = df['position_long'].apply(pd.to_numeric)"
   ]
  },
  {
   "cell_type": "code",
   "execution_count": 9,
   "id": "b8643118",
   "metadata": {},
   "outputs": [],
   "source": [
    "df = df[df['position_lat'].notna()]"
   ]
  },
  {
   "cell_type": "code",
   "execution_count": 10,
   "id": "21fdb4a7",
   "metadata": {},
   "outputs": [],
   "source": [
    "df = df[df['speed'].notna()]"
   ]
  },
  {
   "cell_type": "code",
   "execution_count": 11,
   "id": "77926c51",
   "metadata": {},
   "outputs": [],
   "source": [
    "df = df[df['cadence'].notna()]"
   ]
  },
  {
   "cell_type": "code",
   "execution_count": 12,
   "id": "c1e6532e",
   "metadata": {},
   "outputs": [],
   "source": [
    "df = df[df['heart_rate'].notna()]"
   ]
  },
  {
   "cell_type": "code",
   "execution_count": 13,
   "id": "7815097d",
   "metadata": {},
   "outputs": [],
   "source": [
    "df = df.drop(['eE','unknown_87','message_timeOffset','message_chunk','message_isDeveloperData'], 1)"
   ]
  },
  {
   "cell_type": "code",
   "execution_count": 14,
   "id": "3ec1be47",
   "metadata": {},
   "outputs": [],
   "source": [
    "df['left_right_balance'].replace(to_replace='right', value=np.nan, inplace=True)"
   ]
  },
  {
   "cell_type": "code",
   "execution_count": 15,
   "id": "490e999c",
   "metadata": {},
   "outputs": [
    {
     "data": {
      "text/plain": [
       "0            NaN\n",
       "1            NaN\n",
       "2            NaN\n",
       "3            NaN\n",
       "4            NaN\n",
       "           ...  \n",
       "1789256    154.0\n",
       "1789257    154.0\n",
       "1789258      NaN\n",
       "1789259      NaN\n",
       "1789260      NaN\n",
       "Name: left_right_balance, Length: 1616885, dtype: float64"
      ]
     },
     "execution_count": 15,
     "metadata": {},
     "output_type": "execute_result"
    }
   ],
   "source": [
    "pd.to_numeric(df['left_right_balance'])"
   ]
  },
  {
   "cell_type": "code",
   "execution_count": 16,
   "id": "a611f9f2",
   "metadata": {},
   "outputs": [],
   "source": [
    "df = df.drop(['activity_type','distance_1','distance_2'], 1)"
   ]
  },
  {
   "cell_type": "code",
   "execution_count": 17,
   "id": "45b0e3d1",
   "metadata": {},
   "outputs": [],
   "source": [
    "df['timestamp'] = df['timestamp'].apply(pd.to_datetime)"
   ]
  },
  {
   "cell_type": "code",
   "execution_count": 18,
   "id": "964de4d3",
   "metadata": {},
   "outputs": [
    {
     "name": "stdout",
     "output_type": "stream",
     "text": [
      "<class 'pandas.core.frame.DataFrame'>\n",
      "Int64Index: 1616885 entries, 0 to 1789260\n",
      "Data columns (total 39 columns):\n",
      " #   Column                      Non-Null Count    Dtype              \n",
      "---  ------                      --------------    -----              \n",
      " 0   _id                         1616885 non-null  object             \n",
      " 1   message_type                1616885 non-null  object             \n",
      " 2   message_frame_type          1616885 non-null  int64              \n",
      " 3   message_global_mesg_num     1616885 non-null  int64              \n",
      " 4   message_local_mesg_num      1616885 non-null  int64              \n",
      " 5   message_name                1616885 non-null  object             \n",
      " 6   timestamp                   1616885 non-null  datetime64[ns, UTC]\n",
      " 7   position_lat                1616885 non-null  float64            \n",
      " 8   position_long               1616885 non-null  float64            \n",
      " 9   distance                    1616885 non-null  float64            \n",
      " 10  accumulated_power           1376770 non-null  float64            \n",
      " 11  enhanced_altitude           1616885 non-null  float64            \n",
      " 12  altitude                    1616885 non-null  float64            \n",
      " 13  enhanced_speed              1616885 non-null  float64            \n",
      " 14  speed                       1616885 non-null  float64            \n",
      " 15  power                       1375324 non-null  float64            \n",
      " 16  unknown_88                  1616885 non-null  float64            \n",
      " 17  heart_rate                  1616885 non-null  float64            \n",
      " 18  cadence                     1616885 non-null  float64            \n",
      " 19  temperature                 1616885 non-null  float64            \n",
      " 20  fractional_cadence          1616885 non-null  float64            \n",
      " 21  record_id                   1616885 non-null  int64              \n",
      " 22  activity_id                 1616885 non-null  object             \n",
      " 23  unknown_90                  1043068 non-null  float64            \n",
      " 24  left_pco                    701505 non-null   float64            \n",
      " 25  right_pco                   701505 non-null   float64            \n",
      " 26  left_power_phase_1          646168 non-null   float64            \n",
      " 27  left_power_phase_2          646168 non-null   float64            \n",
      " 28  left_power_phase_peak_1     646181 non-null   float64            \n",
      " 29  left_power_phase_peak_2     646181 non-null   float64            \n",
      " 30  right_power_phase_1         605246 non-null   float64            \n",
      " 31  right_power_phase_2         605246 non-null   float64            \n",
      " 32  right_power_phase_peak_1    605248 non-null   float64            \n",
      " 33  right_power_phase_peak_2    605248 non-null   float64            \n",
      " 34  left_right_balance          786162 non-null   float64            \n",
      " 35  left_torque_effectiveness   690938 non-null   float64            \n",
      " 36  right_torque_effectiveness  690937 non-null   float64            \n",
      " 37  left_pedal_smoothness       690942 non-null   float64            \n",
      " 38  right_pedal_smoothness      690939 non-null   float64            \n",
      "dtypes: datetime64[ns, UTC](1), float64(30), int64(4), object(4)\n",
      "memory usage: 493.4+ MB\n"
     ]
    }
   ],
   "source": [
    "df.info()"
   ]
  },
  {
   "cell_type": "code",
   "execution_count": 19,
   "id": "2c178a59",
   "metadata": {},
   "outputs": [],
   "source": [
    "df.to_csv('garmin_data_clean_level_1_v4.csv')"
   ]
  },
  {
   "cell_type": "code",
   "execution_count": 20,
   "id": "9292ad8f",
   "metadata": {},
   "outputs": [],
   "source": [
    "cursor = db.activity.find({'message_global_mesg_num': 18, 'message_type':'FitDataMessage'})"
   ]
  },
  {
   "cell_type": "code",
   "execution_count": 21,
   "id": "99bac709",
   "metadata": {},
   "outputs": [],
   "source": [
    "df_summary = pd.DataFrame(list(cursor))"
   ]
  },
  {
   "cell_type": "code",
   "execution_count": 22,
   "id": "20719cf4",
   "metadata": {},
   "outputs": [
    {
     "name": "stdout",
     "output_type": "stream",
     "text": [
      "<class 'pandas.core.frame.DataFrame'>\n",
      "RangeIndex: 557 entries, 0 to 556\n",
      "Columns: 137 entries, _id to total_caloriesAV\n",
      "dtypes: bool(1), float64(118), int64(4), object(14)\n",
      "memory usage: 592.5+ KB\n"
     ]
    }
   ],
   "source": [
    "df_summary.info()\n"
   ]
  },
  {
   "cell_type": "code",
   "execution_count": 23,
   "id": "4775f593",
   "metadata": {},
   "outputs": [
    {
     "data": {
      "text/plain": [
       "(557, 137)"
      ]
     },
     "execution_count": 23,
     "metadata": {},
     "output_type": "execute_result"
    }
   ],
   "source": [
    "df_summary.shape"
   ]
  },
  {
   "cell_type": "code",
   "execution_count": 24,
   "id": "b1b6056c",
   "metadata": {},
   "outputs": [
    {
     "name": "stdout",
     "output_type": "stream",
     "text": [
      "_id                              object\n",
      "message_type                     object\n",
      "message_chunk                    object\n",
      "message_frame_type                int64\n",
      "message_global_mesg_num           int64\n",
      "message_isDeveloperData            bool\n",
      "message_local_mesg_num            int64\n",
      "message_name                     object\n",
      "message_timeOffset               object\n",
      "timestamp                        object\n",
      "start_time                       object\n",
      "start_position_lat              float64\n",
      "start_position_long             float64\n",
      "total_elapsed_time              float64\n",
      "total_timer_time                float64\n",
      "total_distance                  float64\n",
      "total_strokes                   float64\n",
      "nec_lat                         float64\n",
      "nec_long                        float64\n",
      "swc_lat                         float64\n",
      "swc_long                        float64\n",
      "unknown_38                      float64\n",
      "unknown_39                      float64\n",
      "avg_stroke_count                float64\n",
      "total_work                      float64\n",
      "unknown_78                      float64\n",
      "unknown_110                      object\n",
      "time_standing                   float64\n",
      "avg_left_power_phase_1          float64\n",
      "avg_left_power_phase_2          float64\n",
      "avg_left_power_phase_3          float64\n",
      "avg_left_power_phase_4          float64\n",
      "avg_left_power_phase_peak_1     float64\n",
      "avg_left_power_phase_peak_2     float64\n",
      "avg_left_power_phase_peak_3     float64\n",
      "avg_left_power_phase_peak_4     float64\n",
      "avg_right_power_phase_1         float64\n",
      "avg_right_power_phase_2         float64\n",
      "avg_right_power_phase_3         float64\n",
      "avg_right_power_phase_4         float64\n",
      "avg_right_power_phase_peak_1    float64\n",
      "avg_right_power_phase_peak_2    float64\n",
      "avg_right_power_phase_peak_3    float64\n",
      "avg_right_power_phase_peak_4    float64\n",
      "avg_power_position_1            float64\n",
      "avg_power_position_2            float64\n",
      "max_power_position_1            float64\n",
      "max_power_position_2            float64\n",
      "enhanced_avg_speed              float64\n",
      "enhanced_max_speed              float64\n",
      "dtype: object\n"
     ]
    }
   ],
   "source": [
    "print(df_summary.dtypes[:50])"
   ]
  },
  {
   "cell_type": "code",
   "execution_count": 25,
   "id": "76f6f777",
   "metadata": {},
   "outputs": [],
   "source": [
    "df_summary['timestamp'] = df_summary['timestamp'].apply(pd.to_datetime)"
   ]
  },
  {
   "cell_type": "code",
   "execution_count": 26,
   "id": "9ef9c353",
   "metadata": {},
   "outputs": [],
   "source": [
    "df_summary['start_time'] = df_summary['start_time'].apply(pd.to_datetime)"
   ]
  },
  {
   "cell_type": "code",
   "execution_count": 27,
   "id": "81f64846",
   "metadata": {},
   "outputs": [
    {
     "name": "stdout",
     "output_type": "stream",
     "text": [
      "pool_length_unit                   float64\n",
      "avg_temperature                    float64\n",
      "max_temperature                    float64\n",
      "unknown_81                         float64\n",
      "avg_fractional_cadence             float64\n",
      "max_fractional_cadence             float64\n",
      "total_fractional_cycles            float64\n",
      "avg_left_torque_effectiveness      float64\n",
      "avg_right_torque_effectiveness     float64\n",
      "avg_left_pedal_smoothness          float64\n",
      "avg_right_pedal_smoothness         float64\n",
      "avg_combined_pedal_smoothness      float64\n",
      "unknown_109                        float64\n",
      "avg_left_pco                       float64\n",
      "avg_right_pco                      float64\n",
      "avg_cadence_position_1             float64\n",
      "avg_cadence_position_2             float64\n",
      "max_cadence_position_1             float64\n",
      "max_cadence_position_2             float64\n",
      "total_anaerobic_training_effect    float64\n",
      "unknown_138_1                      float64\n",
      "unknown_138_2                      float64\n",
      "unknown_150                        float64\n",
      "unknown_184                        float64\n",
      "record_id                            int64\n",
      "activity_id                         object\n",
      "total_moving_time                  float64\n",
      "total_strides                      float64\n",
      "avg_running_cadence                float64\n",
      "max_running_cadence                float64\n",
      "total_cycles                       float64\n",
      "unknown_153                        float64\n",
      "unknown_154                        float64\n",
      "Min_heartrate                      float64\n",
      "BatteryUsed                        float64\n",
      "Steps                              float64\n",
      "total_caloriesAV                   float64\n",
      "dtype: object\n"
     ]
    }
   ],
   "source": [
    "print(df_summary.dtypes[100:])"
   ]
  },
  {
   "cell_type": "code",
   "execution_count": 28,
   "id": "bef130a5",
   "metadata": {},
   "outputs": [],
   "source": [
    "df_summary.to_csv('garmin_activity_summary_clean_v1.csv')"
   ]
  },
  {
   "cell_type": "code",
   "execution_count": null,
   "id": "a880888c",
   "metadata": {},
   "outputs": [],
   "source": []
  }
 ],
 "metadata": {
  "kernelspec": {
   "display_name": "Python 3",
   "language": "python",
   "name": "python3"
  },
  "language_info": {
   "codemirror_mode": {
    "name": "ipython",
    "version": 3
   },
   "file_extension": ".py",
   "mimetype": "text/x-python",
   "name": "python",
   "nbconvert_exporter": "python",
   "pygments_lexer": "ipython3",
   "version": "3.8.2"
  }
 },
 "nbformat": 4,
 "nbformat_minor": 5
}
